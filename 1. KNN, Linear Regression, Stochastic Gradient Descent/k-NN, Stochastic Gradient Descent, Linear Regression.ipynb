{
 "cells": [
  {
   "cell_type": "markdown",
   "metadata": {},
   "source": [
    "# k-NN, Linear Regression, Stochastic Gradient Descent\n",
    "\n",
    "> By Sever Topan\n"
   ]
  },
  {
   "cell_type": "code",
   "execution_count": 1,
   "metadata": {
    "collapsed": false
   },
   "outputs": [],
   "source": [
    "import tensorflow as tf\n",
    "import numpy as np\n",
    "import matplotlib.pyplot as plt \n",
    "import pandas as pd\n",
    "\n",
    "%matplotlib inline\n",
    "\n",
    "sess = tf.InteractiveSession()\n",
    "init = tf.global_variables_initializer()"
   ]
  },
  {
   "cell_type": "markdown",
   "metadata": {},
   "source": [
    "## 1.2 Euclidean Distance Function\n"
   ]
  },
  {
   "cell_type": "markdown",
   "metadata": {},
   "source": [
    "### 1.2.1 \n",
    "\n",
    "First we expand out the squared euclidean distance function.\n",
    "\n",
    "$$\n",
    "\\begin{equation} \\label{norm}\n",
    "\\begin{split}\n",
    "\\|x^{(m)} - x^* \\|_2^2  & = \\sum_{n=1}^N (x_n^{(m)} - x_n^*)^2 \\\\\n",
    "& = \\sum_{n=1}^N {x_n^{(m)}}^2 - 2x_n^*x_n^{(m)} + {x_n^*}^2 \n",
    "\\end{split}\n",
    "\\end{equation}\n",
    "$$\n",
    "\n",
    "In order to find the closest vetor $x^{(m)}$ to $x^*$, we need to search all $M$ vectors and minimize the value of the above expression. We now analyze each of the 3 terms in the expression individually.\n",
    "\n",
    "1. $\\sum_{n=1}^N {x_n^{(m)}}^2 = \\|x^{(m)}\\|_2^2$, which is the same over all  $x^{(m)}$ given the initial property.\n",
    "2. $\\sum_{n=1}^N - 2x_n^*x_n^{(m)} $ is different over all  $x^{(m)}$\n",
    "3. $\\sum_{n=1}^N {x_n^*}^2$ is again the same over all $x^{(m)}$\n",
    "\n",
    "Out of the 3 terms, only the second must be evaluated in order to rank distances. We now observe that ranking $\\sum_{n=1}^N - 2x_n^*x_n^{(m)} $ is equivalent to ranking $ - {x^{(m)}}^Tx^* $. Hence, in order to find the nearest neighbour of test point $x^*$, we must simply rank the negative inner product between the training and test data.\n",
    "\n",
    "\n",
    "\n"
   ]
  },
  {
   "cell_type": "markdown",
   "metadata": {},
   "source": [
    "### 1.2.2"
   ]
  },
  {
   "cell_type": "code",
   "execution_count": 2,
   "metadata": {
    "collapsed": false
   },
   "outputs": [],
   "source": [
    "# initialize placeholders - x of shape BxN, z of shape CxN\n",
    "x = tf.placeholder(tf.float32)\n",
    "z = tf.placeholder(tf.float32)\n",
    "\n",
    "# expand dimensions so that we can broadcast the matrices into dimension 3\n",
    "x_exp = tf.expand_dims(x, -1)\n",
    "z_exp = tf.expand_dims(z, -1)\n",
    "\n",
    "# rotate the matrices so that subtraction will trigger correct broadcasting - x of shape 1xNxB\n",
    "x_rotated = tf.transpose(x_exp, perm=[2, 1, 0])\n",
    "subbed = (x_rotated - z_exp)\n",
    "\n",
    "# perform subtraction, square, and sum reduction across dimension index 1 (that of size N)\n",
    "sum_red_sq_sub = tf.reduce_sum(tf.square(subbed), 1)\n",
    "\n",
    "# return transpose of the reduced matrix for output of the desired type BxC\n",
    "pairwise_sq_euclid_dist = tf.transpose(sum_red_sq_sub)"
   ]
  },
  {
   "cell_type": "code",
   "execution_count": 3,
   "metadata": {
    "collapsed": false
   },
   "outputs": [
    {
     "data": {
      "text/plain": [
       "array([[ 4.,  2.,  2.,  2.],\n",
       "       [ 2.,  4.,  2.,  2.],\n",
       "       [ 2.,  2.,  4.,  0.]], dtype=float32)"
      ]
     },
     "execution_count": 3,
     "metadata": {},
     "output_type": "execute_result"
    }
   ],
   "source": [
    "# session run\n",
    "sess.run(init)\n",
    "sess.run(pairwise_sq_euclid_dist, feed_dict={x:np.array([[1, 0, 0], [0, 1, 0], [0, 0, 1]]), \\\n",
    "                                                z:np.array([[-1, 0, 0], [0, -1, 0], [0, 0, -1], [0, 0, 1]])})"
   ]
  },
  {
   "cell_type": "code",
   "execution_count": 4,
   "metadata": {
    "collapsed": false
   },
   "outputs": [
    {
     "data": {
      "text/plain": [
       "array([[  41.,  225.,   68.,    5.],\n",
       "       [  37.,  185.,  160.,   45.],\n",
       "       [  73.,  265.,   26.,    1.]], dtype=float32)"
      ]
     },
     "execution_count": 4,
     "metadata": {},
     "output_type": "execute_result"
    }
   ],
   "source": [
    "# session run\n",
    "sess.run(init)\n",
    "sess.run(pairwise_sq_euclid_dist, feed_dict={x:np.array([[4, 3], [0, 1], [7, 4]]), \\\n",
    "                                               z:np.array([[-1, 7], [4, -12], [12, 5], [6, 4]])})"
   ]
  },
  {
   "cell_type": "markdown",
   "metadata": {},
   "source": [
    "## 1.3 Making Predictions"
   ]
  },
  {
   "cell_type": "code",
   "execution_count": 5,
   "metadata": {
    "collapsed": false
   },
   "outputs": [
    {
     "data": {
      "text/plain": [
       "<matplotlib.text.Text at 0x238e3bf3198>"
      ]
     },
     "execution_count": 5,
     "metadata": {},
     "output_type": "execute_result"
    },
    {
     "data": {
      "image/png": "[encoded data removed]",
      "text/plain": [
       "<matplotlib.figure.Figure at 0x238e3b80cc0>"
      ]
     },
     "metadata": {},
     "output_type": "display_data"
    }
   ],
   "source": [
    "# generate test data\n",
    "np.random.seed(521) \n",
    "Data = np.linspace(1.0 , 10.0 , num =100) [:, np. newaxis] \n",
    "Target = np.sin( Data ) + 0.1 * np.power( Data , 2) + 0.5 * np.random.randn(100 , 1)\n",
    "\n",
    "randIdx = np.arange(100)\n",
    "np.random.shuffle(randIdx)\n",
    "trainData, trainTarget = Data[randIdx[:80]], Target[randIdx[:80]]\n",
    "validData, validTarget = Data[randIdx[80:90]], Target[randIdx[80:90]]\n",
    "testData, testTarget = Data[randIdx[90:100]], Target[randIdx[90:100]]\n",
    "\n",
    "# display\n",
    "plt.plot(trainData, trainTarget, 'o', validData, validTarget, 'o', testData, testTarget, 'o')\n",
    "plt.xlabel('Data')\n",
    "plt.ylabel('Targets')"
   ]
  },
  {
   "cell_type": "markdown",
   "metadata": {},
   "source": [
    "### 1.3.1"
   ]
  },
  {
   "cell_type": "code",
   "execution_count": 6,
   "metadata": {
    "collapsed": false,
    "scrolled": false
   },
   "outputs": [],
   "source": [
    "# initialize placeholders\n",
    "pairwise_dist = tf.placeholder(tf.float32)\n",
    "k = tf.placeholder(tf.int32)\n",
    "\n",
    "# obtain nearest neighbour indices\n",
    "_, k_indices = tf.nn.top_k(-pairwise_dist, k)\n",
    "\n",
    "# organize indices into a format recognized by sparse tensors\n",
    "index_dims_untiled = tf.linspace(0., tf.cast(tf.shape(k_indices)[0], tf.float32) - 1., tf.shape(k_indices)[0])\n",
    "index_dims_tiled = tf.expand_dims(tf.tile(tf.expand_dims(index_dims_untiled, -1), [1, k]), -1)\n",
    "concat_indices = tf.concat(2, [index_dims_tiled, tf.cast(tf.expand_dims(k_indices, -1), tf.float32)])\n",
    "reshaped_indices = tf.reshape(concat_indices, [tf.shape(k_indices)[0] * k, 2])\n",
    "\n",
    "# create sparse tensor\n",
    "valuesList = tf.fill([tf.shape(reshaped_indices)[0]], 1/k)\n",
    "unordered_resp = tf.SparseTensor(tf.cast(reshaped_indices, tf.int64), values=valuesList, \\\n",
    "                                       shape=tf.cast(tf.shape(pairwise_dist), tf.int64))\n",
    "ordered_resp = tf.sparse_reorder(unordered_resp)\n",
    "calc_resp = tf.sparse_tensor_to_dense(ordered_resp)"
   ]
  },
  {
   "cell_type": "code",
   "execution_count": 7,
   "metadata": {
    "collapsed": false
   },
   "outputs": [
    {
     "data": {
      "text/plain": [
       "array([[ 0.2,  0. ,  0. , ...,  0. ,  0. ,  0.2],\n",
       "       [ 0. ,  0.2,  0. , ...,  0. ,  0. ,  0. ],\n",
       "       [ 0. ,  0. ,  0.2, ...,  0. ,  0. ,  0. ],\n",
       "       ..., \n",
       "       [ 0. ,  0. ,  0. , ...,  0.2,  0. ,  0. ],\n",
       "       [ 0. ,  0.2,  0. , ...,  0. ,  0.2,  0. ],\n",
       "       [ 0.2,  0. ,  0. , ...,  0. ,  0. ,  0.2]])"
      ]
     },
     "execution_count": 7,
     "metadata": {},
     "output_type": "execute_result"
    }
   ],
   "source": [
    "sess.run(init)\n",
    "trainData_pairwise_dist = sess.run(pairwise_sq_euclid_dist, feed_dict={x:trainData, z:trainData})\n",
    "sess.run(calc_resp, feed_dict={pairwise_dist:trainData_pairwise_dist, k:5})"
   ]
  },
  {
   "cell_type": "markdown",
   "metadata": {},
   "source": [
    "### 1.3.2"
   ]
  },
  {
   "cell_type": "code",
   "execution_count": 8,
   "metadata": {
    "collapsed": false
   },
   "outputs": [],
   "source": [
    "# placeholders\n",
    "y_hat = tf.placeholder(tf.float32)\n",
    "y = tf.placeholder(tf.float32)\n",
    "\n",
    "# loss function\n",
    "y_diff = y_hat - y\n",
    "M = tf.cast(tf.shape(y)[0], tf.float32)\n",
    "calc_loss = 1. / (2. * M) * tf.matmul(tf.transpose(y_diff), y_diff)"
   ]
  },
  {
   "cell_type": "code",
   "execution_count": 9,
   "metadata": {
    "collapsed": true
   },
   "outputs": [],
   "source": [
    "# placeholders\n",
    "resp = tf.placeholder(tf.float32)\n",
    "y_prime = tf.placeholder(tf.float32)\n",
    "\n",
    "# prediction function\n",
    "calc_y_hat = tf.matmul(resp, y_prime)"
   ]
  },
  {
   "cell_type": "code",
   "execution_count": 10,
   "metadata": {
    "collapsed": false
   },
   "outputs": [],
   "source": [
    "# initialize responsibility matrices\n",
    "sess.run(init)\n",
    "trainData_pairwise_dist = sess.run(pairwise_sq_euclid_dist, feed_dict={x:trainData, z:trainData})\n",
    "validData_pairwise_dist = sess.run(pairwise_sq_euclid_dist, feed_dict={x:validData, z:trainData})\n",
    "testData_pairwise_dist = sess.run(pairwise_sq_euclid_dist, feed_dict={x:testData, z:trainData})\n",
    "\n",
    "# initialize prediction varibles\n",
    "prediction_y_hat = []\n",
    "prediction_points = np.linspace(0., 11., num=1000)[:,np.newaxis]\n",
    "prediction_pairwise_dist = sess.run(pairwise_sq_euclid_dist, \\\n",
    "                                    feed_dict={x:prediction_points, z:trainData})\n",
    "\n",
    "# initialize k values, and loss lists\n",
    "k_values = [1, 3, 5, 50]\n",
    "train_loss, valid_loss, test_loss = [], [], []\n",
    "\n",
    "for k_value in k_values:\n",
    "    # training set\n",
    "    train_resp = sess.run(calc_resp, feed_dict={pairwise_dist:trainData_pairwise_dist, k:k_value})\n",
    "    y_hat_in = sess.run(calc_y_hat, feed_dict={resp:train_resp, y_prime:trainTarget})\n",
    "    train_loss.append(sess.run(calc_loss, feed_dict={y_hat:y_hat_in, y:trainTarget})[0])\n",
    "    \n",
    "    # validation set\n",
    "    valid_resp = sess.run(calc_resp, feed_dict={pairwise_dist:validData_pairwise_dist, k:k_value})\n",
    "    y_hat_in = sess.run(calc_y_hat, feed_dict={resp:valid_resp, y_prime:trainTarget})\n",
    "    valid_loss.append(sess.run(calc_loss, feed_dict={y_hat:y_hat_in, y:validTarget})[0])\n",
    "    \n",
    "    # test set\n",
    "    test_resp = sess.run(calc_resp, feed_dict={pairwise_dist:testData_pairwise_dist, k:k_value})\n",
    "    y_hat_in = sess.run(calc_y_hat, feed_dict={resp:test_resp, y_prime:trainTarget})\n",
    "    test_loss.append(sess.run(calc_loss, feed_dict={y_hat:y_hat_in, y:testTarget})[0])\n",
    "    \n",
    "    # prediction\n",
    "    prediction_resp = sess.run(calc_resp, feed_dict={pairwise_dist:prediction_pairwise_dist, k:k_value})\n",
    "    prediction_y_hat.append(sess.run(calc_y_hat, feed_dict={resp:prediction_resp, y_prime:trainTarget}))   "
   ]
  },
  {
   "cell_type": "code",
   "execution_count": 11,
   "metadata": {
    "collapsed": false
   },
   "outputs": [
    {
     "data": {
      "text/html": [
       "<div>\n",
       "<table border=\"1\" class=\"dataframe\">\n",
       "  <thead>\n",
       "    <tr style=\"text-align: right;\">\n",
       "      <th></th>\n",
       "      <th>test loss</th>\n",
       "      <th>train loss</th>\n",
       "      <th>validation loss</th>\n",
       "    </tr>\n",
       "  </thead>\n",
       "  <tbody>\n",
       "    <tr>\n",
       "      <th>1</th>\n",
       "      <td>[0.311004]</td>\n",
       "      <td>[0.0]</td>\n",
       "      <td>[0.27155]</td>\n",
       "    </tr>\n",
       "    <tr>\n",
       "      <th>3</th>\n",
       "      <td>[0.145092]</td>\n",
       "      <td>[0.105242]</td>\n",
       "      <td>[0.326278]</td>\n",
       "    </tr>\n",
       "    <tr>\n",
       "      <th>5</th>\n",
       "      <td>[0.178327]</td>\n",
       "      <td>[0.118541]</td>\n",
       "      <td>[0.310439]</td>\n",
       "    </tr>\n",
       "    <tr>\n",
       "      <th>50</th>\n",
       "      <td>[0.706935]</td>\n",
       "      <td>[1.24801]</td>\n",
       "      <td>[1.2287]</td>\n",
       "    </tr>\n",
       "  </tbody>\n",
       "</table>\n",
       "</div>"
      ],
      "text/plain": [
       "     test loss  train loss validation loss\n",
       "1   [0.311004]       [0.0]       [0.27155]\n",
       "3   [0.145092]  [0.105242]      [0.326278]\n",
       "5   [0.178327]  [0.118541]      [0.310439]\n",
       "50  [0.706935]   [1.24801]        [1.2287]"
      ]
     },
     "execution_count": 11,
     "metadata": {},
     "output_type": "execute_result"
    }
   ],
   "source": [
    "# print table \n",
    "pd.DataFrame({'train loss':train_loss, \\\n",
    "              'validation loss':valid_loss, \\\n",
    "              'test loss':test_loss}, index=k_values)"
   ]
  },
  {
   "cell_type": "code",
   "execution_count": 12,
   "metadata": {
    "collapsed": false
   },
   "outputs": [
    {
     "data": {
      "text/plain": [
       "<matplotlib.text.Text at 0x238e4073cc0>"
      ]
     },
     "execution_count": 12,
     "metadata": {},
     "output_type": "execute_result"
    },
    {
     "data": {
      "image/png": "[encoded data removed]",
      "text/plain": [
       "<matplotlib.figure.Figure at 0x238e4065e10>"
      ]
     },
     "metadata": {},
     "output_type": "display_data"
    }
   ],
   "source": [
    "# plot \n",
    "plt.plot(k_values, train_loss, '-x', label='train loss')\n",
    "plt.plot(k_values, valid_loss, '-x', label='valid loss')\n",
    "plt.plot(k_values, test_loss, '-x', label='test loss')\n",
    "plt.legend()\n",
    "plt.xlabel('Loss')\n",
    "plt.ylabel('k Values')"
   ]
  },
  {
   "cell_type": "markdown",
   "metadata": {},
   "source": [
    "Out of the given $k$ values of $\\{1, 3, 5, 50\\}$, the value $5$ results in the lowest validation loss, hence we would be inclined to choose it as the optimal value. However, we can notice that the value $3$ results in the lowest overall test loss. "
   ]
  },
  {
   "cell_type": "code",
   "execution_count": 13,
   "metadata": {
    "collapsed": false
   },
   "outputs": [
    {
     "data": {
      "text/plain": [
       "<matplotlib.text.Text at 0x238e50f5470>"
      ]
     },
     "execution_count": 13,
     "metadata": {},
     "output_type": "execute_result"
    },
    {
     "data": {
      "image/png": "[encoded data removed]",
      "text/plain": [
       "<matplotlib.figure.Figure at 0x238e4065b38>"
      ]
     },
     "metadata": {},
     "output_type": "display_data"
    }
   ],
   "source": [
    "# plot predictions\n",
    "plt.figure(figsize=(14, 8))\n",
    "\n",
    "for i in range(len(k_values)):\n",
    "    plt.plot(prediction_points, prediction_y_hat[i], label='k = ' + str(k_values[i]))\n",
    "    \n",
    "plt.plot(trainData, trainTarget, 'bo', validData, validTarget, 'bo', testData, testTarget, 'bo')\n",
    "\n",
    "plt.legend()\n",
    "plt.xlabel('Data')\n",
    "plt.ylabel('Targets')"
   ]
  },
  {
   "cell_type": "markdown",
   "metadata": {},
   "source": [
    "The prediction analysis follows:\n",
    "\n",
    "- $k = 1$: We notice massive fluctuations in the predictions that match the test data set. This would not be a good prediction since it overfits the test data.\n",
    "- $k = 3$: Takes a close local average. This is a relatively good prediction.\n",
    "- $k = 5$: Takes a sligtly looser local average. This is a relatively good prediction.\n",
    "- $k = 50$: Takes a large average that approximates the overall trend in the data points, but it doesn't approximate the data itself well.\n",
    "\n",
    "Out of the listed predictions, $k = 3$ and $k = 5$ seem to approximate the data trend most accurately. They strike a balance between putting too much emphasis on local changes or global trends. The loss functions computed above also show this.\n",
    "\n",
    "Though $k = 5$ resulted in the lowest loss out of the four listed $k$ values, if we sample more $k$ options we observe the global validation set loss minimum occurs at around $k = 19$. The code demonstrating this is below."
   ]
  },
  {
   "cell_type": "code",
   "execution_count": 14,
   "metadata": {
    "collapsed": false
   },
   "outputs": [],
   "source": [
    "k_values = [2 * i + 1 for i in range(25)]\n",
    "train_loss, valid_loss, test_loss = [], [], []\n",
    "\n",
    "for k_value in k_values:\n",
    "    # training data\n",
    "    train_resp = sess.run(calc_resp, feed_dict={pairwise_dist:trainData_pairwise_dist, k:k_value})\n",
    "    y_hat_in = sess.run(calc_y_hat, feed_dict={resp:train_resp, y_prime:trainTarget})\n",
    "    train_loss.append(sess.run(calc_loss, feed_dict={y_hat:y_hat_in, y:trainTarget})[0])\n",
    "    \n",
    "    # validation data\n",
    "    valid_resp = sess.run(calc_resp, feed_dict={pairwise_dist:validData_pairwise_dist, k:k_value})\n",
    "    y_hat_in = sess.run(calc_y_hat, feed_dict={resp:valid_resp, y_prime:trainTarget})\n",
    "    valid_loss.append(sess.run(calc_loss, feed_dict={y_hat:y_hat_in, y:validTarget})[0])\n",
    "    \n",
    "    # test data\n",
    "    test_resp = sess.run(calc_resp, feed_dict={pairwise_dist:testData_pairwise_dist, k:k_value})\n",
    "    y_hat_in = sess.run(calc_y_hat, feed_dict={resp:test_resp, y_prime:trainTarget})\n",
    "    test_loss.append(sess.run(calc_loss, feed_dict={y_hat:y_hat_in, y:testTarget})[0])"
   ]
  },
  {
   "cell_type": "code",
   "execution_count": 15,
   "metadata": {
    "collapsed": false
   },
   "outputs": [
    {
     "data": {
      "text/plain": [
       "<matplotlib.text.Text at 0x238e50d78d0>"
      ]
     },
     "execution_count": 15,
     "metadata": {},
     "output_type": "execute_result"
    },
    {
     "data": {
      "image/png": "[encoded data removed]",
      "text/plain": [
       "<matplotlib.figure.Figure at 0x238e53cc630>"
      ]
     },
     "metadata": {},
     "output_type": "display_data"
    }
   ],
   "source": [
    "# plot\n",
    "plt.plot(k_values, train_loss, '-x', label='train loss')\n",
    "plt.plot(k_values, valid_loss, '-x', label='valid loss')\n",
    "plt.plot(k_values, test_loss, '-x', label='test loss')\n",
    "plt.legend()\n",
    "plt.xlabel('Loss')\n",
    "plt.ylabel('k Values')"
   ]
  },
  {
   "cell_type": "markdown",
   "metadata": {},
   "source": [
    "## 2.1 Geometry of Linear Regression"
   ]
  },
  {
   "cell_type": "markdown",
   "metadata": {},
   "source": [
    "### 2.1.1\n",
    "\n",
    "We will prove the function is convex with respect to the weights and bias by proving the inequality for the individual $\\mathcal{L}_D$ and $\\mathcal{L}_W$ portions of the loss functions. First some notation and substitutions used in the derivations:\n",
    "\n",
    "- We will denote $(1-\\alpha)$ as $\\beta$.\n",
    "- $\\alpha + \\beta = 1$\n",
    "- $\\beta^2 = 1 - 2 \\alpha + \\alpha^2$.\n",
    "- We will denote  $b - y^{(m)}$ as $\\mathcal{Y}_b$ and $b - y_n^{(m)}$ as $\\mathcal{Y}_{bn}$, this being present in the weight proofs\n",
    "- We will denote $W^T x^{(m)} - y^{(m)}$ as $\\Delta_{\\hat{y}, y}$ and $W^T x^{(m)} - y_n^{(m)} $ as $\\Delta_{(\\hat{y}, y)n} $, this being present in the bias proof\n"
   ]
  },
  {
   "cell_type": "markdown",
   "metadata": {},
   "source": [
    "We prove the jensen inequality for $\\mathcal{L}_W$ with respect to weights:\n",
    "\n",
    "$$\n",
    "\\begin{equation}\n",
    "\\begin{split}\n",
    "\\frac{\\lambda}{2} \\| \\alpha W_1 + \\beta W_2 \\|_2^2 & \\leq \\frac{\\lambda}{2} \\big(\\alpha \\| W_1 \\|_2^2 + \\beta \\| W_2 \\|_2^2 \\big) \\\\\n",
    "\\sum_n ( \\alpha W_{1n} + \\beta W_{2n} )^2 & \\leq \\sum_n \\alpha W_{1n}^2 + \\beta W_{2n}^2 \\\\\n",
    "\\alpha^2 W_{1n}^2 + 2 \\alpha \\beta W_{1n} W_{2n} + \\beta^2 W_{2n}^2 & \\leq \\alpha W_{1n}^2 + \\beta W_{2n}^2 \\\\\n",
    "(\\alpha^2 - \\alpha) W_{1n}^2 + 2(\\alpha - \\alpha^2) W_{1n} W_{2n} + (1 - 2 \\alpha + \\alpha^2 - (1 - \\alpha)) W_{2n}^2 & \\leq 0 \\\\\n",
    "(\\alpha^2 - \\alpha)( W_{1n}^2 - 2 W_{1n} W_{2n} + W_{2n}^2 ) & \\leq 0 \\\\\n",
    "(\\alpha^2 - \\alpha)( W_{1n} - W_{2n} )^2 & \\leq 0\n",
    "\\end{split}\n",
    "\\end{equation}\n",
    "$$\n",
    "\n",
    "We notice that $ \\alpha^2 - \\alpha $ will always be less than or equal to zero since $ \\alpha \\in [0, 1] $ and that $( W_{1n} - W_{2n} )^2$ will always be greater than or equal to zero since our weights are not complex numbers. Hence the left hand side of the equation evaulates to either zero or a negative number, and the inequality is satisfied. "
   ]
  },
  {
   "cell_type": "markdown",
   "metadata": {},
   "source": [
    "We will now prove the jensen inequality for $\\mathcal{L}_D$ with respect to weights:\n",
    "\n",
    "$$\n",
    "\\begin{equation}\n",
    "\\begin{split}\n",
    "\\sum_m \\frac{1}{2M} \\| (\\alpha W_1 + \\beta W_2)^T x^{(m)} + \\mathcal{Y}_{b} \\|_2^2 & \\leq \\sum_m  \\frac{1}{2M} \\big( \\alpha \\| W_1^T x^{(m)} + \\mathcal{Y}_{b} \\|_2^2 + \\beta \\| W_2^T x^{(m)} + \\mathcal{Y}_{b} \\|_2^2 \\big) \\\\\n",
    "\\sum_n \\big( (\\alpha W_1 + \\beta W_2)^T x^{(m)} + \\mathcal{Y}_{bn} \\big)^2 & \\leq \\sum_n \\alpha \\big( W_1^T x^{(m)} + \\mathcal{Y}_{bn} \\big)^2 + \\beta \\big( W_2^T x^{(m)} + \\mathcal{Y}_{bn} \\big)^2 \\\\\n",
    "\\big( (\\alpha W_1 + \\beta W_2)^{T} x^{(m)} \\big)^2 + 2(\\alpha W_1 + \\beta W_2)^{T} x^{(m)} \\mathcal{Y}_{bn} + \\mathcal{Y}_{bn}^2 & \\leq \\alpha \\big( ( W_1^T x^{(m)} )^2 + 2 W_1^T x^{(m)}\\mathcal{Y}_{bn} + \\mathcal{Y}_{bn}^2 \\big) +  \\beta \\big( ( W_2^T x^{(m)} )^2 + 2 W_2^T x^{(m)}\\mathcal{Y}_{bn} + \\mathcal{Y}_{bn}^2 \\big) \\\\\n",
    "\\alpha^2 ( W_1^T )^2 (x^{(m)})^2 + 2 \\alpha \\beta W_1^T W_2^T (x^{(m)})^2 + \\beta^2 ( W_2^T )^2 (x^{(m)})^2 + 2(\\alpha W_1^T + \\beta W_2^T) x^{(m)} \\mathcal{Y}_{bn} + \\mathcal{Y}_{bn}^2 & \\leq  \\alpha ( W_1^T )^2 (x^{(m)})^2 + \\beta ( W_2^T )^2 (x^{(m)})^2 + 2(\\alpha W_1 + \\beta W_2)^{T} x^{(m)} \\mathcal{Y}_{bn} + (\\alpha + \\beta) \\mathcal{Y}_{bn}^2 \\\\\n",
    "\\alpha^2 ( W_1^T )^2 (x^{(m)})^2 + 2 \\alpha \\beta W_1^T W_2^T (x^{(m)})^2 + \\beta^2 ( W_2^T )^2 (x^{(m)})^2 & \\leq  \\alpha ( W_1^T )^2 (x^{(m)})^2 + \\beta ( W_2^T )^2 (x^{(m)})^2 \\\\\n",
    "\\alpha^2 ( W_1^T )^2 + 2 \\alpha \\beta W_1^T W_2^T + \\beta^2 ( W_2^T )^2 & \\leq  \\alpha ( W_1^T )^2 + \\beta ( W_2^T )^2 \\\\\n",
    "(\\alpha^2 - \\alpha) ( W_1^T )^2 + 2 (\\alpha - \\alpha^2) W_1^T W_2^T + (1 - 2 \\alpha + \\alpha^2 - (1 - \\alpha)) ( W_2^T )^2  & \\leq  0 \\\\\n",
    "(\\alpha^2 - \\alpha) \\big( ( W_1^T )^2 - 2 W_1^T W_2^T + ( W_2^T )^2 \\big) & \\leq  0 \\\\\n",
    "(\\alpha^2 - \\alpha)( W_1^T - W_2^T )^2 &\\leq  0\n",
    "\\end{split}\n",
    "\\end{equation}\n",
    "$$\n",
    "\n",
    "Just like in the above, $ \\alpha^2 - \\alpha \\leq 0 $ and $( W_1^T - W_2^T )^2 \\geq 0$, hence the inequality is satisfied."
   ]
  },
  {
   "cell_type": "markdown",
   "metadata": {},
   "source": [
    "We will now prove the jensen inequality for the loss function with respect to bias. note that we do not have to solve for $\\mathcal{L}_W$ since the bias is not present within the term.\n",
    "\n",
    "$$\n",
    "\\begin{equation}\n",
    "\\begin{split}\n",
    "\\sum_m \\frac{1}{2M} \\| \\alpha b_1 + \\beta b_2 + \\Delta_{\\hat{y}, y} \\|_2^2 & \\leq \\sum_m  \\frac{1}{2M} \\big( \\alpha \\| b_1 + \\Delta_{\\hat{y}, y} \\|_2^2 + \\beta \\| b_2 + \\Delta_{\\hat{y}, y} \\|_2^2 \\big) \\\\\n",
    "\\sum_n ( \\alpha b_1 + \\beta b_2 + \\Delta_{(\\hat{y}, y)n} )^2 & \\leq \\sum_n \\alpha ( b_1 + \\Delta_{(\\hat{y}, y)n} )^2 + \\beta ( b_2 + \\Delta_{(\\hat{y}, y)n} )^2 \\\\\n",
    "\\alpha^2 b_1^2 + 2 \\alpha \\beta b_1 b_2 + \\beta^2 b_2^2 + 2 \\alpha b_1 \\Delta_{(\\hat{y}, y)n} + 2 \\beta b_2 \\Delta_{(\\hat{y}, y)n}  + \\Delta_{(\\hat{y}, y)n}^2 & \\leq \\alpha b_1^2 + 2 \\alpha b_1 \\Delta_{(\\hat{y}, y)n} + \\alpha \\Delta_{(\\hat{y}, y)n}^2 + \\beta b_2^2 + 2 \\beta b_2 \\Delta_{(\\hat{y}, y)n} + \\beta \\Delta_{(\\hat{y}, y)n}^2 \\\\\n",
    "\\alpha^2 b_1^2 + 2 \\alpha \\beta b_1 b_2 + \\beta^2 b_2^2 + 2 & \\leq \\alpha b_1^2 + \\beta b_2^2 \\\\\n",
    "(\\alpha^2 - \\alpha) b_1^2 + 2(\\alpha - \\alpha^2) b_1 b_2 + (1 - 2 \\alpha + \\alpha^2 - (1 - \\alpha)) b_2^2 & \\leq 0 \\\\\n",
    "(\\alpha^2 - \\alpha)( b_1^2 - 2 b_1 b_2 + b_2^2 ) & \\leq 0 \\\\\n",
    "(\\alpha^2 - \\alpha)( b_1 - b_2 )^2 & \\leq 0\n",
    "\\end{split}\n",
    "\\end{equation}\n",
    "$$\n",
    "\n",
    "Again, as above, $ \\alpha^2 - \\alpha \\leq 0 $ and $( b_1 - b_2 )^2 \\geq 0$, hence the inequality is satisfied.\n"
   ]
  },
  {
   "cell_type": "markdown",
   "metadata": {},
   "source": [
    "### 2.1.4\n",
    "\n",
    "A multi-class classification task could be solved by discriminating between individual subsets of classes in each binary classification task. If we have the set of classes $\\{ C_0, \\dots C_D \\} $ we could design a binary classifier to split the classes into subsets $\\{ C_0, \\dots C_k \\} $ and $\\{ C_{k+1}, \\dots C_D \\} $. We would then repeat the design procedure for each subset until we discriminate out the single classes."
   ]
  },
  {
   "cell_type": "markdown",
   "metadata": {},
   "source": [
    "## 2.2 Stochastic Gradient Descent"
   ]
  },
  {
   "cell_type": "code",
   "execution_count": 18,
   "metadata": {
    "collapsed": false
   },
   "outputs": [],
   "source": [
    "import numpy as np\n",
    "with np.load (\"tinymnist.npz\") as data:\n",
    "    trainData, trainTarget = data [\"x\"], data[\"y\"]\n",
    "    validData, validTarget = data [\"x_valid\"], data [\"y_valid\"]\n",
    "    testData, testTarget = data [\"x_test\"], data [\"y_test\"]"
   ]
  },
  {
   "cell_type": "markdown",
   "metadata": {},
   "source": [
    "Our linear regression model is defined below. It accepts 3 exit conditions:\n",
    "\n",
    "1. `MAX_NUM_EPOCHS` is reached\n",
    "2. An inputted `convergence_condition` is reached, or if the gradient descent diverges. This is used if we know the optimal overall loss that our regression model can achieve.\n",
    "3. If no `convergence_condition` is inputted (i.e. a value of 0), the model can exit if the gradient difference between training steps is less than `GRADIENT_THRESHOLD`.\n",
    "\n",
    "The way in which the exit conditions of the model will be used is that we will obtain a convergence condition by performing gradient descent on the full data model (batch size of 700) until the gradient becomes too shallow and either exit condition 1 or 3 is met. We will then use this exit condition to trigger exit condition 2 for subsequent regressions with the same loss function (i.e. the same $\\lambda$ value)."
   ]
  },
  {
   "cell_type": "code",
   "execution_count": 19,
   "metadata": {
    "collapsed": false
   },
   "outputs": [],
   "source": [
    "def linear_regression_model_3(batch_size, λ, η, convergence_condition):\n",
    "    # constants\n",
    "    MAX_NUM_EPOCHS = 1000\n",
    "    GRADIENT_THRESHOLD = 0.0001\n",
    "    \n",
    "    # return parameters\n",
    "    num_gradient_descent_steps = 0\n",
    "\n",
    "    # tf varibales - weights and bias\n",
    "    W = tf.Variable(tf.zeros([64, 1]))\n",
    "    b = tf.Variable(0.)\n",
    "\n",
    "    # data/target placeholders for each iteration\n",
    "    x = tf.placeholder(tf.float32, name='x')\n",
    "    y = tf.placeholder(tf.float32, name='y')\n",
    "\n",
    "    # y_hat output prediction function\n",
    "    y_hat = tf.matmul(x, W) + b\n",
    "\n",
    "    # mean squared loss with weight decay\n",
    "    mse_weight_decay = 0.5 * tf.reduce_mean(tf.reduce_sum(tf.square(y_hat - y), reduction_indices=1)) \\\n",
    "                                + (λ / 2) * tf.reduce_sum(tf.square(W))\n",
    "\n",
    "    # gradiend descent optimizer\n",
    "    optimizer = tf.train.GradientDescentOptimizer(learning_rate=η)\n",
    "    train = optimizer.minimize(loss=mse_weight_decay)\n",
    "\n",
    "    # variable initialization\n",
    "    init = tf.global_variables_initializer()\n",
    "    sess.run(init)\n",
    "    sess.run([W, b])\n",
    "    \n",
    "    # init batch selection indices\n",
    "    batch_selection_indices = np.linspace(0, trainData.shape[0] - 1, trainData.shape[0], dtype=np.int32)\n",
    "    \n",
    "    # MAX_NUM_EPOCHS represents exit condition 1\n",
    "    convergence = False\n",
    "    prev_loss = float('inf')\n",
    "    for i in range(MAX_NUM_EPOCHS):\n",
    "        # initialize batch selection variables\n",
    "        np.random.seed(i)\n",
    "        np.random.shuffle(batch_selection_indices)\n",
    "        batch_start = 0\n",
    "        batch_end = batch_size\n",
    "        batching_complete = False\n",
    "        \n",
    "        # break when convergence occurs\n",
    "        if convergence:\n",
    "            break\n",
    "        \n",
    "        while not batching_complete:\n",
    "            # obtain current batch\n",
    "            batch_data = trainData[batch_selection_indices[batch_start:batch_end]]\n",
    "            batch_target = trainTarget[batch_selection_indices[batch_start:batch_end]]\n",
    "            \n",
    "            # prepare for next batch\n",
    "            batch_start += batch_size\n",
    "            batch_end += batch_size\n",
    "            batching_complete = batch_start == trainData.shape[0]\n",
    "            num_gradient_descent_steps += 1\n",
    "            \n",
    "            # perform train step\n",
    "            train_res, loss, curr_W, curr_b = sess.run([train, mse_weight_decay, W, b], \\\n",
    "                                                       feed_dict={x:batch_data, y:batch_target})\n",
    "\n",
    "            # check overall loss after gradient descent step\n",
    "            overall_loss = sess.run(mse_weight_decay, feed_dict={x:trainData, y:trainTarget})\n",
    "            \n",
    "            # exit condition 3\n",
    "            if not convergence_condition and abs(prev_loss - overall_loss) < GRADIENT_THRESHOLD:\n",
    "                convergence = True\n",
    "                break\n",
    "            \n",
    "            # exit condition 2\n",
    "            if overall_loss < convergence_condition \\\n",
    "                    or overall_loss == float('inf'):\n",
    "                convergence = True\n",
    "                if overall_loss == float('inf'):\n",
    "                    num_gradient_descent_steps = float('inf')\n",
    "                break\n",
    "            else:\n",
    "                prev_loss = overall_loss\n",
    "                \n",
    "    # obtain losses\n",
    "    train_loss = sess.run(mse_weight_decay, feed_dict={x:trainData, y:trainTarget})\n",
    "    valid_loss = sess.run(mse_weight_decay, feed_dict={x:validData, y:validTarget})\n",
    "    test_loss = sess.run(mse_weight_decay, feed_dict={x:testData, y:testTarget})\n",
    "    \n",
    "    return num_gradient_descent_steps, train_loss, valid_loss, test_loss"
   ]
  },
  {
   "cell_type": "markdown",
   "metadata": {},
   "source": [
    "### 2.2.1"
   ]
  },
  {
   "cell_type": "code",
   "execution_count": 20,
   "metadata": {
    "collapsed": false
   },
   "outputs": [
    {
     "data": {
      "text/plain": [
       "0.099237233"
      ]
     },
     "execution_count": 20,
     "metadata": {},
     "output_type": "execute_result"
    }
   ],
   "source": [
    "# obtain convergence condition\n",
    "convergence_condition = linear_regression_model_3(batch_size=700, λ=1, η=0.1, convergence_condition=0.0)[1]\n",
    "convergence_condition"
   ]
  },
  {
   "cell_type": "code",
   "execution_count": 21,
   "metadata": {
    "collapsed": false
   },
   "outputs": [
    {
     "data": {
      "text/plain": [
       "<matplotlib.text.Text at 0x238e6cb1e80>"
      ]
     },
     "execution_count": 21,
     "metadata": {},
     "output_type": "execute_result"
    },
    {
     "data": {
      "image/png": "[encoded data removed]",
      "text/plain": [
       "<matplotlib.figure.Figure at 0x238e52cab00>"
      ]
     },
     "metadata": {},
     "output_type": "display_data"
    }
   ],
   "source": [
    "η_values = [0.4, 0.3, 0.25, 0.2, 0.15, 0.1, 0.01, 0.001]\n",
    "convergence_speed = []\n",
    "\n",
    "# obtain convergence speed per η value\n",
    "for η in η_values:\n",
    "    num_steps = linear_regression_model_3(batch_size=50, λ=1, η=η, convergence_condition=convergence_condition)[0]\n",
    "    \n",
    "    # accomodate for graphing the value of inf\n",
    "    if num_steps == float('inf'):\n",
    "        num_steps = 6000\n",
    "    \n",
    "    # append to output list\n",
    "    convergence_speed.append(num_steps)\n",
    "    \n",
    "plt.plot(η_values, convergence_speed)\n",
    "plt.xlabel('Step Size')\n",
    "plt.ylabel('Number of Steps to Convergence')"
   ]
  },
  {
   "cell_type": "markdown",
   "metadata": {},
   "source": [
    "The step count of the gradient descent algorithm decreases exponentially with an increase in step size until around $\\eta = 0.25$, past which it discontinues to infinity. The high learning rate at low $\\eta$ values is caused by the slow rate at which the gradient is traversed. Learning rate increases with $\\eta$ until $\\eta$ is too large to be able to descend the convex loss surface, and our gradient descent diverges. The optimal learning rate occurs right before this discontinuity."
   ]
  },
  {
   "cell_type": "markdown",
   "metadata": {},
   "source": [
    "### 2.2.2"
   ]
  },
  {
   "cell_type": "markdown",
   "metadata": {},
   "source": [
    "We will plot the different batch size performance versus different $\\eta$ values in order to observe the effect of different minibatch sizes."
   ]
  },
  {
   "cell_type": "code",
   "execution_count": 22,
   "metadata": {
    "collapsed": false
   },
   "outputs": [
    {
     "name": "stdout",
     "output_type": "stream",
     "text": [
      "batch size  10  complete\n",
      "batch size  50  complete\n",
      "batch size  100  complete\n",
      "batch size  700  complete\n"
     ]
    },
    {
     "data": {
      "text/plain": [
       "<matplotlib.text.Text at 0x238e94f1cf8>"
      ]
     },
     "execution_count": 22,
     "metadata": {},
     "output_type": "execute_result"
    },
    {
     "data": {
      "image/png": "[encoded data removed]",
      "text/plain": [
       "<matplotlib.figure.Figure at 0x238e6cb5e10>"
      ]
     },
     "metadata": {},
     "output_type": "display_data"
    }
   ],
   "source": [
    "plt.figure(figsize=(14, 8))\n",
    "\n",
    "# init iteration values\n",
    "η_values = [0.4, 0.3, 0.25, 0.2, 0.15, 0.1, 0.01, 0.001]\n",
    "batch_values = [10, 50, 100, 700]\n",
    "convergence_speed = []\n",
    "\n",
    "# check η and batch size combinations\n",
    "for i, batch_size in enumerate(batch_values):\n",
    "    for η in η_values:\n",
    "        num_steps = linear_regression_model_3(batch_size=batch_size, λ=1, η=η, convergence_condition=convergence_condition)[0]\n",
    "\n",
    "        # accomodate for grafing the value of inf\n",
    "        if num_steps == float('inf'):\n",
    "            num_steps = 6000\n",
    "\n",
    "        # append to output list\n",
    "        if len(convergence_speed) <= i:\n",
    "            convergence_speed.append([])\n",
    "        convergence_speed[i].append(num_steps)\n",
    "\n",
    "    # plot\n",
    "    plt.plot(η_values, convergence_speed[i], label='batch size '+str(batch_size))\n",
    "    print('batch size ', batch_size, ' complete')\n",
    "    \n",
    "plt.legend()\n",
    "plt.xlabel('Step Size')\n",
    "plt.ylabel('Number of Steps to Convergence')"
   ]
  },
  {
   "cell_type": "code",
   "execution_count": 23,
   "metadata": {
    "collapsed": false
   },
   "outputs": [
    {
     "data": {
      "text/html": [
       "<div>\n",
       "<table border=\"1\" class=\"dataframe\">\n",
       "  <thead>\n",
       "    <tr style=\"text-align: right;\">\n",
       "      <th></th>\n",
       "      <th>batch size 10</th>\n",
       "      <th>batch size 100</th>\n",
       "      <th>batch size 50</th>\n",
       "      <th>batch size 700</th>\n",
       "    </tr>\n",
       "  </thead>\n",
       "  <tbody>\n",
       "    <tr>\n",
       "      <th>0.400</th>\n",
       "      <td>6000</td>\n",
       "      <td>6000</td>\n",
       "      <td>6000</td>\n",
       "      <td>6000</td>\n",
       "    </tr>\n",
       "    <tr>\n",
       "      <th>0.300</th>\n",
       "      <td>6000</td>\n",
       "      <td>6000</td>\n",
       "      <td>6000</td>\n",
       "      <td>6000</td>\n",
       "    </tr>\n",
       "    <tr>\n",
       "      <th>0.250</th>\n",
       "      <td>1073</td>\n",
       "      <td>27</td>\n",
       "      <td>47</td>\n",
       "      <td>26</td>\n",
       "    </tr>\n",
       "    <tr>\n",
       "      <th>0.200</th>\n",
       "      <td>74</td>\n",
       "      <td>36</td>\n",
       "      <td>37</td>\n",
       "      <td>32</td>\n",
       "    </tr>\n",
       "    <tr>\n",
       "      <th>0.150</th>\n",
       "      <td>68</td>\n",
       "      <td>44</td>\n",
       "      <td>46</td>\n",
       "      <td>43</td>\n",
       "    </tr>\n",
       "    <tr>\n",
       "      <th>0.100</th>\n",
       "      <td>80</td>\n",
       "      <td>65</td>\n",
       "      <td>70</td>\n",
       "      <td>65</td>\n",
       "    </tr>\n",
       "    <tr>\n",
       "      <th>0.010</th>\n",
       "      <td>654</td>\n",
       "      <td>646</td>\n",
       "      <td>646</td>\n",
       "      <td>646</td>\n",
       "    </tr>\n",
       "    <tr>\n",
       "      <th>0.001</th>\n",
       "      <td>6455</td>\n",
       "      <td>6459</td>\n",
       "      <td>6459</td>\n",
       "      <td>1000</td>\n",
       "    </tr>\n",
       "  </tbody>\n",
       "</table>\n",
       "</div>"
      ],
      "text/plain": [
       "       batch size 10  batch size 100  batch size 50  batch size 700\n",
       "0.400           6000            6000           6000            6000\n",
       "0.300           6000            6000           6000            6000\n",
       "0.250           1073              27             47              26\n",
       "0.200             74              36             37              32\n",
       "0.150             68              44             46              43\n",
       "0.100             80              65             70              65\n",
       "0.010            654             646            646             646\n",
       "0.001           6455            6459           6459            1000"
      ]
     },
     "execution_count": 23,
     "metadata": {},
     "output_type": "execute_result"
    }
   ],
   "source": [
    "# print out raw data\n",
    "batch_η_dict = {}\n",
    "for i, batch_size in enumerate(batch_values):\n",
    "    batch_η_dict['batch size '+str(batch_size)] = convergence_speed[i]\n",
    "\n",
    "pd.DataFrame(batch_η_dict, index=η_values)"
   ]
  },
  {
   "cell_type": "markdown",
   "metadata": {},
   "source": [
    "As a general trend, the larger the batch, the faster the overall convergence rate in terms of number of gradient descent steps, mainly at low step sizes. This is because the more training points in your batch, the better the approximation of the overall gradient descent step. However this comes at a cost of computaional intensity for each individual gradient descent step, and at a cost of memory to hold the structures needed for the larger data set.\n",
    "\n",
    "The largest batch size, $700$, is the best overall batch in terms of training time."
   ]
  },
  {
   "cell_type": "markdown",
   "metadata": {},
   "source": [
    "### 2.2.3"
   ]
  },
  {
   "cell_type": "code",
   "execution_count": 24,
   "metadata": {
    "collapsed": false
   },
   "outputs": [
    {
     "name": "stdout",
     "output_type": "stream",
     "text": [
      "convergence conditions:  [0.034606677, 0.034632124, 0.034860507, 0.0373592, 0.055571161, 0.099237233]\n"
     ]
    }
   ],
   "source": [
    "λ_values = [0, 0.0001, 0.001, 0.01, 0.1, 1]\n",
    "convergence_conditions = []\n",
    "\n",
    "# generate convergence conditions\n",
    "for λ in λ_values:\n",
    "    convergence_conditions.append(linear_regression_model_3(batch_size=700, λ=λ, η=0.1, convergence_condition=0)[1])\n",
    "\n",
    "print('convergence conditions: ', convergence_conditions)"
   ]
  },
  {
   "cell_type": "code",
   "execution_count": 25,
   "metadata": {
    "collapsed": false
   },
   "outputs": [
    {
     "name": "stdout",
     "output_type": "stream",
     "text": [
      "0 : 0.0344443 0.0385494 0.0430177\n"
     ]
    },
    {
     "data": {
      "text/plain": [
       "<matplotlib.text.Text at 0x238f1afff60>"
      ]
     },
     "execution_count": 25,
     "metadata": {},
     "output_type": "execute_result"
    },
    {
     "data": {
      "image/png": "[encoded data removed]",
      "text/plain": [
       "<matplotlib.figure.Figure at 0x238f0421a20>"
      ]
     },
     "metadata": {},
     "output_type": "display_data"
    }
   ],
   "source": [
    "train_losses = []\n",
    "valid_losses = []\n",
    "test_losses = []\n",
    "\n",
    "# evaluate λ values given the above convergence conditions\n",
    "for i, λ in enumerate(λ_values):\n",
    "    _, curr_train_loss, curr_valid_loss, curr_test_loss \\\n",
    "        = linear_regression_model_3(batch_size=50, λ=λ, η=0.1, convergence_condition=convergence_conditions[i])\n",
    "    \n",
    "    train_losses.append(curr_train_loss)\n",
    "    valid_losses.append(curr_valid_loss)\n",
    "    test_losses.append(curr_test_loss)\n",
    "    \n",
    "    \n",
    "# print value for λ = 0 as it won't appear on the graph\n",
    "print(λ_values[0], ':', train_losses[0], valid_losses[0], test_losses[0])\n",
    "\n",
    "# plot\n",
    "plt.plot(λ_values, train_losses, '-x', label='Train Loss')\n",
    "plt.plot(λ_values, valid_losses, '-x', label='Validation Loss')\n",
    "plt.plot(λ_values, test_losses, '-x', label='Test Loss')\n",
    "plt.legend()\n",
    "plt.xscale('log')\n",
    "plt.xlabel('Lambda Value')\n",
    "plt.ylabel('Loss')"
   ]
  },
  {
   "cell_type": "markdown",
   "metadata": {},
   "source": [
    "As $\\lambda$ increases, as do the train, test and validation losses. A second thing to note is that the difference between the training, validation and test sets decrease as $\\lambda$ is increased. This is due to the penalty for overfitting test data. Though not shown on the graph because itis logarithmic, $\\lambda = 0$ boasts the lowest loss.\n",
    "\n",
    "We use the validation set to tune the hyperparameters because the validation set is used to tune hyperparameters to avoid weight overfitting on the training set, while test data is used to check how overfitted the model is overall (training data plus validation data)."
   ]
  }
 ],
 "metadata": {
  "kernelspec": {
   "display_name": "Python 3",
   "language": "python",
   "name": "python3"
  },
  "language_info": {
   "codemirror_mode": {
    "name": "ipython",
    "version": 3
   },
   "file_extension": ".py",
   "mimetype": "text/x-python",
   "name": "python",
   "nbconvert_exporter": "python",
   "pygments_lexer": "ipython3",
   "version": "3.5.2"
  }
 },
 "nbformat": 4,
 "nbformat_minor": 2
}
